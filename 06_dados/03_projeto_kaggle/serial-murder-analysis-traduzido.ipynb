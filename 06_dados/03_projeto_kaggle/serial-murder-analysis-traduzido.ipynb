{
  "cells": [
    {
      "cell_type": "markdown",
      "metadata": {
        "id": "Jcm0Wv3qrycT",
        "papermill": {
          "duration": 0.029977,
          "end_time": "2021-05-21T20:11:06.463102",
          "exception": false,
          "start_time": "2021-05-21T20:11:06.433125",
          "status": "completed"
        },
        "tags": []
      },
      "source": [
        "# Análise de assassinato em série\n",
        "Autores ####: Liing Lu, Vi Nguyen\n"
      ]
    },
    {
      "cell_type": "markdown",
      "metadata": {
        "id": "bK-XH0meZ3Fr",
        "papermill": {
          "duration": 0.028563,
          "end_time": "2021-05-21T20:11:06.520639",
          "exception": false,
          "start_time": "2021-05-21T20:11:06.492076",
          "status": "completed"
        },
        "tags": []
      },
      "source": [
        "## 1. Limpeza/transformação de dados\n",
        "\n",
        "Os dados utilizados nesta análise são coletados da [Wikipedia] (https://en.m.wikipedia.org/wiki/List_Of_Serial_Killers_By_Number_of_Victims). Este é um conjunto de dados disponível ao público que pode ser editado por qualquer pessoa. Ou seja, esse conjunto de dados contém informações que estão em andamento ou sujeitas à confiabilidade dos editores.\n",
        "\n",
        "Para armazenar os dados em um quadro de dados Pandas bem formatado, as técnicas de limpeza e transformação de dados foram aplicadas ao conteúdo original da página da web. Consulte este [link] (https://colab.research.google.com/drive/1vfxouhzgy53rzg08q9v54kzxpj7r5f6z?usp=sharing) para ver como isso foi feito. As palavras -chave relevantes extraídas através do uso do processamento de linguagem natural foram usadas para classificar o tipo de agressor e o modus operandi (M.0.) Usado pelo respectivo agressor.\n"
      ]
    },
    {
      "cell_type": "code",
      "execution_count": null,
      "metadata": {
        "_kg_hide-input": true,
        "_kg_hide-output": true,
        "execution": {
          "iopub.execute_input": "2021-05-21T20:11:22.439053Z",
          "iopub.status.busy": "2021-05-21T20:11:22.435688Z",
          "iopub.status.idle": "2021-05-21T20:11:25.407162Z",
          "shell.execute_reply": "2021-05-21T20:11:25.407690Z"
        },
        "papermill": {
          "duration": 3.019407,
          "end_time": "2021-05-21T20:11:25.407849",
          "exception": false,
          "start_time": "2021-05-21T20:11:22.388442",
          "status": "completed"
        },
        "tags": []
      },
      "outputs": [],
      "source": [
        "## Imports\n",
        "\n",
        "import pandas as pd\n",
        "import numpy as np\n",
        "\n",
        "import matplotlib.pyplot as plt\n",
        "import seaborn as sns\n",
        "\n",
        "import folium\n",
        "from folium import plugins\n",
        "\n",
        "import statsmodels.api as sm\n",
        "from statsmodels.formula.api import ols\n",
        "from scipy import stats\n",
        "from pingouin import pairwise_tukey\n",
        "import scipy.stats as stats"
      ]
    },
    {
      "cell_type": "code",
      "execution_count": null,
      "metadata": {
        "_kg_hide-input": true,
        "execution": {
          "iopub.execute_input": "2021-05-21T20:11:25.502083Z",
          "iopub.status.busy": "2021-05-21T20:11:25.501429Z",
          "iopub.status.idle": "2021-05-21T20:11:25.523204Z",
          "shell.execute_reply": "2021-05-21T20:11:25.523749Z"
        },
        "papermill": {
          "duration": 0.076714,
          "end_time": "2021-05-21T20:11:25.523938",
          "exception": false,
          "start_time": "2021-05-21T20:11:25.447224",
          "status": "completed"
        },
        "tags": []
      },
      "outputs": [],
      "source": [
        "## Import data\n",
        "\n",
        "df = pd.read_csv('/kaggle/input/serial_murder.csv', index_col = 0)"
      ]
    },
    {
      "cell_type": "markdown",
      "metadata": {
        "id": "VzkRjd9oZbtR",
        "papermill": {
          "duration": 0.03886,
          "end_time": "2021-05-21T20:11:25.602077",
          "exception": false,
          "start_time": "2021-05-21T20:11:25.563217",
          "status": "completed"
        },
        "tags": []
      },
      "source": [
        "## 2. Visualizações\n"
      ]
    },
    {
      "cell_type": "code",
      "execution_count": null,
      "metadata": {
        "_kg_hide-input": true,
        "execution": {
          "iopub.execute_input": "2021-05-21T20:11:25.695164Z",
          "iopub.status.busy": "2021-05-21T20:11:25.694079Z",
          "iopub.status.idle": "2021-05-21T20:11:27.850593Z",
          "shell.execute_reply": "2021-05-21T20:11:27.850013Z"
        },
        "id": "Zd0SkePUjQOD",
        "outputId": "ba514829-1910-4b01-f46e-9aba3915fff3",
        "papermill": {
          "duration": 2.209418,
          "end_time": "2021-05-21T20:11:27.850704",
          "exception": false,
          "start_time": "2021-05-21T20:11:25.641286",
          "status": "completed"
        },
        "tags": []
      },
      "outputs": [],
      "source": [
        "fig, ax = plt.subplots(4,2, figsize = (25, 20))\n",
        "\n",
        "plt.suptitle('Number of Proven Vitims by MO')\n",
        "ax[0,0].hist(df[df['involving children'] == 1]['Proven victims'], bins = 50,)\n",
        "ax[0,0].set_title('Crimes involving children')\n",
        "ax[0,1].hist(df[df['sexually motivated'] == 1]['Proven victims'], bins = 50)\n",
        "ax[0,1].set_title('Sexual assault')\n",
        "ax[1,0].hist(df[df['torture'] == 1]['Proven victims'], bins = 50)\n",
        "ax[1,0].set_title('Torture')\n",
        "ax[1,1].hist(df[df['arsenist'] == 1]['Proven victims'], bins = 50)\n",
        "ax[1,1].set_title('Arson')\n",
        "ax[2,0].hist(df[df['cannibalism'] == 1]['Proven victims'], bins = 50)\n",
        "ax[2,0].set_title('Cannibalism')\n",
        "ax[2,1].hist(df[df['strangulation'] == 1]['Proven victims'], bins = 50)\n",
        "ax[2,1].set_title('Strangulation')\n",
        "ax[3,0].hist(df[df['guns'] == 1]['Proven victims'], bins = 50)\n",
        "ax[3,0].set_title('Gun')\n",
        "ax[3,1].hist(df[df['poison'] == 1]['Proven victims'], bins = 50)\n",
        "ax[3,1].set_title('Poison')"
      ]
    },
    {
      "cell_type": "markdown",
      "metadata": {
        "papermill": {
          "duration": 0.041421,
          "end_time": "2021-05-21T20:11:27.933765",
          "exception": false,
          "start_time": "2021-05-21T20:11:27.892344",
          "status": "completed"
        },
        "tags": []
      },
      "source": [
        "Entendimento:\n",
        "\n",
        "O gráfico acima é facetado sobre os diferentes tipos de MO usados pelos assassinos, com o eixo x sendo o número de vítimas comprovadas.\n",
        "\n",
        "- Existem casos extremos em todos os tipos de MO com altas contagens de vítimas\n",
        "\n",
        "** NOTA: Um assassino pode ter mais de 1 mês, assim é contabilizado em um ou mais histogramas\n"
      ]
    },
    {
      "cell_type": "code",
      "execution_count": null,
      "metadata": {
        "execution": {
          "iopub.execute_input": "2021-05-21T20:11:28.032538Z",
          "iopub.status.busy": "2021-05-21T20:11:28.027025Z",
          "iopub.status.idle": "2021-05-21T20:11:28.085192Z",
          "shell.execute_reply": "2021-05-21T20:11:28.084478Z"
        },
        "id": "ihl6DAm-5S5z",
        "papermill": {
          "duration": 0.110245,
          "end_time": "2021-05-21T20:11:28.085305",
          "exception": false,
          "start_time": "2021-05-21T20:11:27.975060",
          "status": "completed"
        },
        "tags": []
      },
      "outputs": [],
      "source": [
        "## Examine possible correlation between number of active years and number of active areas\n",
        "\n",
        "df['Country'].replace('United States', 'US', inplace = True)\n",
        "\n",
        "cross_cntries = []\n",
        "for index, row in df.iterrows():\n",
        "        \n",
        "    ## Filter to killers active in more than 2 areas\n",
        "      if len(row['Country'].split(' ')) >= 2:\n",
        "            cross_cntries.append((row['Name'], len(row['Country'].split(' ')), row['Country'], \n",
        "                          row['Number of years active']))\n",
        "\n",
        "            \n",
        "active_areas_df = pd.DataFrame(columns = ['Name', 'Areas active', 'Countries', 'Years active'], data = cross_cntries)\n",
        "active_areas_df = active_areas_df.sort_values(['Years active', 'Areas active'], ascending = False)"
      ]
    },
    {
      "cell_type": "code",
      "execution_count": null,
      "metadata": {
        "_kg_hide-input": true,
        "execution": {
          "iopub.execute_input": "2021-05-21T20:11:28.175429Z",
          "iopub.status.busy": "2021-05-21T20:11:28.174567Z",
          "iopub.status.idle": "2021-05-21T20:11:29.606102Z",
          "shell.execute_reply": "2021-05-21T20:11:29.605401Z"
        },
        "id": "9am8UPpNGyC8",
        "outputId": "ab9f1768-3ca0-4b97-8f60-8d8e7d988966",
        "papermill": {
          "duration": 1.478791,
          "end_time": "2021-05-21T20:11:29.606248",
          "exception": false,
          "start_time": "2021-05-21T20:11:28.127457",
          "status": "completed"
        },
        "tags": []
      },
      "outputs": [],
      "source": [
        "facet = sns.FacetGrid(active_areas_df, col=\"Areas active\", hue = 'Areas active', size = 10, col_wrap=3,  margin_titles=True,\n",
        "                     sharey = False)\n",
        "facet.map(plt.hist, \"Years active\")"
      ]
    },
    {
      "cell_type": "markdown",
      "metadata": {
        "id": "cfGd7kUqJrl1",
        "papermill": {
          "duration": 0.043253,
          "end_time": "2021-05-21T20:11:29.693646",
          "exception": false,
          "start_time": "2021-05-21T20:11:29.650393",
          "status": "completed"
        },
        "tags": []
      },
      "source": [
        "Percepções:\n",
        "\n",
        "- Os assassinos que se mudaram entre diferentes locais têm maior número de anos ativos.\n",
        "\n",
        "-> Mudar através das fronteiras do país pode ser usado como uma medida contra-forente para evitar a detecção\n"
      ]
    },
    {
      "cell_type": "code",
      "execution_count": null,
      "metadata": {
        "execution": {
          "iopub.execute_input": "2021-05-21T20:11:29.796731Z",
          "iopub.status.busy": "2021-05-21T20:11:29.796040Z",
          "iopub.status.idle": "2021-05-21T20:11:29.992649Z",
          "shell.execute_reply": "2021-05-21T20:11:29.992012Z"
        },
        "id": "10zlqJ-CJ35g",
        "outputId": "fe60bc97-6a0a-44f7-d07d-b6f92cff07e6",
        "papermill": {
          "duration": 0.255454,
          "end_time": "2021-05-21T20:11:29.992756",
          "exception": false,
          "start_time": "2021-05-21T20:11:29.737302",
          "status": "completed"
        },
        "tags": []
      },
      "outputs": [],
      "source": [
        "plt.figure(figsize = (15, 10))\n",
        "ax = sns.scatterplot(x = 'Methods of killing', y = 'Proven victims', data = df)\n",
        "ax.set_title(\"Dotplot of number of MO's vs. Number of victims\")"
      ]
    },
    {
      "cell_type": "markdown",
      "metadata": {
        "papermill": {
          "duration": 0.04507,
          "end_time": "2021-05-21T20:11:30.083411",
          "exception": false,
          "start_time": "2021-05-21T20:11:30.038341",
          "status": "completed"
        },
        "tags": []
      },
      "source": [
        "Entendimento:\n",
        "\n",
        "- assassinos que têm apenas 1 mês são mais variantes em termos de quantas pessoas têm como alvo\n",
        "\n",
        "-> Os infratores que exibem mais de 3 meses tendem a passar mais tempo com suas vítimas, com contagem mais baixa de vítimas. Aqueles com MOs inferiores, por outro lado, estão mais focados na quantidade.\n"
      ]
    },
    {
      "cell_type": "code",
      "execution_count": null,
      "metadata": {
        "execution": {
          "iopub.execute_input": "2021-05-21T20:11:30.192270Z",
          "iopub.status.busy": "2021-05-21T20:11:30.189636Z",
          "iopub.status.idle": "2021-05-21T20:11:30.328890Z",
          "shell.execute_reply": "2021-05-21T20:11:30.328320Z"
        },
        "id": "NWVppt4ATdC2",
        "outputId": "09b21b14-7ff3-4856-db12-91f9c55cb1ac",
        "papermill": {
          "duration": 0.200666,
          "end_time": "2021-05-21T20:11:30.329058",
          "exception": false,
          "start_time": "2021-05-21T20:11:30.128392",
          "status": "completed"
        },
        "tags": []
      },
      "outputs": [],
      "source": [
        "conviction = {'prison': np.sum(df['prison']), 'execution':np.sum(df['execution']), 'mental institution':np.sum(df['mental institution']), 'suicide':np.sum(df['suicide'])}\n",
        "plt.figure(figsize=(15,10))\n",
        "plt.bar(conviction.keys(), conviction.values())\n",
        "plt.title('Types of treatment for the convicted')"
      ]
    },
    {
      "cell_type": "code",
      "execution_count": null,
      "metadata": {
        "execution": {
          "iopub.execute_input": "2021-05-21T20:11:30.558311Z",
          "iopub.status.busy": "2021-05-21T20:11:30.435325Z",
          "iopub.status.idle": "2021-05-21T20:11:30.726567Z",
          "shell.execute_reply": "2021-05-21T20:11:30.727059Z"
        },
        "id": "v4fbsoBXDIz3",
        "outputId": "d9fc7be8-5252-4121-ff5c-ecbe0d43c27b",
        "papermill": {
          "duration": 0.351962,
          "end_time": "2021-05-21T20:11:30.727223",
          "exception": false,
          "start_time": "2021-05-21T20:11:30.375261",
          "status": "completed"
        },
        "tags": []
      },
      "outputs": [],
      "source": [
        "\n",
        "data = [df[df['execution']==1]['Proven victims'],df[df['mental institution']==1]['Proven victims'],\n",
        "        df[df['prison']==1]['Proven victims'],df[df['suicide']==1]['Proven victims']]\n",
        "labels=['execution','mental institution','prison','suicide']\n",
        "plt.figure(figsize=(15,10))\n",
        "boxplot = plt.boxplot(data,labels=labels,patch_artist=True)\n",
        "plt.title('Number of proven victims as per each treatment type')\n",
        "colors = ['pink','lightblue','lightgreen','lightyellow']\n",
        "for patch, color in zip(boxplot['boxes'], colors):\n",
        "  patch.set_facecolor(color)\n",
        "plt.ylabel('Number of proven victims')\n",
        "plt.show()"
      ]
    },
    {
      "cell_type": "code",
      "execution_count": null,
      "metadata": {
        "execution": {
          "iopub.execute_input": "2021-05-21T20:11:30.841696Z",
          "iopub.status.busy": "2021-05-21T20:11:30.836749Z",
          "iopub.status.idle": "2021-05-21T20:11:30.845943Z",
          "shell.execute_reply": "2021-05-21T20:11:30.845258Z"
        },
        "id": "9OfB0qSWSe9H",
        "outputId": "78256e57-16f1-4cf3-fc99-1e18d53f112e",
        "papermill": {
          "duration": 0.070289,
          "end_time": "2021-05-21T20:11:30.846058",
          "exception": false,
          "start_time": "2021-05-21T20:11:30.775769",
          "status": "completed"
        },
        "tags": []
      },
      "outputs": [],
      "source": [
        "# summary statistics of each type\n",
        "for d,con in zip(data,labels):\n",
        "  print(con.title())\n",
        "  print(d.describe(),end='\\n\\n')"
      ]
    },
    {
      "cell_type": "markdown",
      "metadata": {
        "id": "2jYdTkNmZ_O-",
        "papermill": {
          "duration": 0.047628,
          "end_time": "2021-05-21T20:11:30.941794",
          "exception": false,
          "start_time": "2021-05-21T20:11:30.894166",
          "status": "completed"
        },
        "tags": []
      },
      "source": [
        "Percepções:\n",
        "\n",
        "- A maioria dos condenados foi enviada para a prisão enquanto o restante foi enviado para instituições mentais.\n",
        "\n",
        "- O grupo executado de condenado mata 15 pessoas em mediana. Esse número médio de vítimas é o mais alto entre os três tipos de tratamento.\n"
      ]
    },
    {
      "cell_type": "markdown",
      "metadata": {
        "papermill": {
          "duration": 0.048055,
          "end_time": "2021-05-21T20:11:31.038025",
          "exception": false,
          "start_time": "2021-05-21T20:11:30.989970",
          "status": "completed"
        },
        "tags": []
      },
      "source": [
        "Assassinos em série e suas áreas ativas\n"
      ]
    },
    {
      "cell_type": "code",
      "execution_count": null,
      "metadata": {
        "_kg_hide-input": true,
        "execution": {
          "iopub.execute_input": "2021-05-21T20:11:31.162616Z",
          "iopub.status.busy": "2021-05-21T20:11:31.156503Z",
          "iopub.status.idle": "2021-05-21T20:11:31.191126Z",
          "shell.execute_reply": "2021-05-21T20:11:31.190455Z"
        },
        "id": "7x1PGtXEXhCp",
        "papermill": {
          "duration": 0.10508,
          "end_time": "2021-05-21T20:11:31.191240",
          "exception": false,
          "start_time": "2021-05-21T20:11:31.086160",
          "status": "completed"
        },
        "tags": []
      },
      "outputs": [],
      "source": [
        "active_countries = active_areas_df['Countries'].str.replace('\\xa0\\xa0',',').tolist()\n",
        "# split each killer's active countries \n",
        "temp = []\n",
        "for country in active_countries:\n",
        "  country = country.replace('\\xa0',',').split(',')\n",
        "  temp.extend([c.strip() for c in country])\n",
        "\n",
        "# resolve different naming issues\n",
        "temp2 = []\n",
        "for country in temp:\n",
        "    if '(' in country:\n",
        "        country = country[:country.index('(')-1]\n",
        "    if country in ['Allied-occupied Germany','German Empire','German Reich','Nazi Germany','Weimar Germany', 'Weimar Republic', 'West Germany',]:\n",
        "        country = 'Germany'\n",
        "    if country == 'Kingdom of Italy':\n",
        "        country = 'Italy'\n",
        "    if country == 'Persia':\n",
        "        country = 'Iran'\n",
        "    if country == 'Ottoman Empire':\n",
        "        country = 'Turkey'\n",
        "    if country == 'Portuguese Angola':\n",
        "        country = 'Angola'\n",
        "    if country == 'Czechoslovakia':\n",
        "        country = 'Slovakia'\n",
        "    if country == 'Yugoslavia':\n",
        "        country = 'Croatia'\n",
        "    if country == 'Soviet Union':\n",
        "        country = 'Russia'\n",
        "    if country == 'Czech Republic':\n",
        "        country = 'Czechia'\n",
        "    if country == 'United States':\n",
        "        country = 'United States of America'\n",
        "    if len(country)>2:\n",
        "        temp2.append(country)\n",
        "\n",
        "active_countries_count = {}\n",
        "\n",
        "for country in temp2:\n",
        "      active_countries_count[country] = active_countries_count.get(country,0)+1\n",
        "active_countries_count = dict(sorted(active_countries_count.items(), key = lambda kv:(kv[1],kv[0]), reverse=True))\n",
        "\n",
        "active_areas_df['Countries'] = active_areas_df['Countries'].apply(lambda x: x.replace('\\xa0',','))\n",
        "\n",
        "def Replace_cntries (country):\n",
        "    country = country.strip()\n",
        "    if '(' in country:\n",
        "        country = country[:country.index('(')-1]\n",
        "    if country in ['Allied-occupied Germany', 'German Empire','German Reich','Nazi Germany','Weimar Germany', 'Weimar Republic', 'West Germany']:\n",
        "        country = 'Germany'\n",
        "    if country == 'Kingdom of Italy':\n",
        "        country = 'Italy'\n",
        "    if country == 'Persia':\n",
        "        country = 'Iran'\n",
        "    if country == 'Ottoman Empire':\n",
        "        country = 'Turkey'\n",
        "    if country == 'Portuguese Angola':\n",
        "        country = 'Angola'\n",
        "    if country == 'Czechoslovakia':\n",
        "        country = 'Slovakia'\n",
        "    if country == 'Yugoslavia':\n",
        "        country = 'Croatia'\n",
        "    if country == 'Soviet Union':\n",
        "        country = 'Russia'\n",
        "\n",
        "    return country\n",
        "\n",
        "locs_2 = active_areas_df.copy()[['Name', 'Countries']]\n",
        "\n",
        "## \"Explode\" cells into rows\n",
        "locs_2 = locs_2.set_index(['Name']).apply(lambda x: x.str.split(',').explode()).reset_index()\n",
        "\n",
        "## Resolve naming issues\n",
        "locs_2['Countries'] = locs_2['Countries'].apply(Replace_cntries)\n",
        "\n",
        "## Drop nas's\n",
        "locs_2.drop(locs_2.index[locs_2['Countries'] == ''], axis = 0, inplace = True)\n",
        "locs_2"
      ]
    },
    {
      "cell_type": "code",
      "execution_count": null,
      "metadata": {
        "execution": {
          "iopub.execute_input": "2021-05-21T20:11:31.297189Z",
          "iopub.status.busy": "2021-05-21T20:11:31.296492Z",
          "iopub.status.idle": "2021-05-21T20:11:31.596433Z",
          "shell.execute_reply": "2021-05-21T20:11:31.595931Z"
        },
        "id": "-NC8AnZsKZTY",
        "outputId": "fea4c113-c814-4a85-a881-a4a4119c4a3e",
        "papermill": {
          "duration": 0.356887,
          "end_time": "2021-05-21T20:11:31.596547",
          "exception": false,
          "start_time": "2021-05-21T20:11:31.239660",
          "status": "completed"
        },
        "tags": []
      },
      "outputs": [],
      "source": [
        "# plot\n",
        "#y_pos = np.arange(len(active_countries_count))\n",
        "#frequency = list(active_countries_count.values())\n",
        "#labels = tuple(active_countries_count.keys())\n",
        "\n",
        "#fig, ax = plt.subplots(figsize=(15,10))\n",
        "#ax.barh(y_pos, frequency ,color='teal')\n",
        "#ax.set_yticks(y_pos)\n",
        "#ax.set_yticklabels(labels)\n",
        "#ax.invert_yaxis()\n",
        "#ax.set_xlabel('Frequency')\n",
        "#ax.set_title('Frequencies of the active countries')\n",
        "#plt.show()\n",
        "plt.figure(figsize=(15,10))\n",
        "locs_2.Countries.value_counts().plot.barh(alpha=0.8)"
      ]
    },
    {
      "cell_type": "code",
      "execution_count": null,
      "metadata": {
        "_kg_hide-input": true,
        "_kg_hide-output": true,
        "execution": {
          "iopub.execute_input": "2021-05-21T20:11:31.703574Z",
          "iopub.status.busy": "2021-05-21T20:11:31.702919Z",
          "iopub.status.idle": "2021-05-21T20:11:32.895703Z",
          "shell.execute_reply": "2021-05-21T20:11:32.894775Z"
        },
        "id": "TdPMH933HY6S",
        "outputId": "d6fa2e3d-2ec4-4aea-c1a8-bf4069e5de4b",
        "papermill": {
          "duration": 1.249027,
          "end_time": "2021-05-21T20:11:32.895853",
          "exception": false,
          "start_time": "2021-05-21T20:11:31.646826",
          "status": "completed"
        },
        "tags": []
      },
      "outputs": [],
      "source": [
        "## Coordinates dataset\n",
        "loc = pd.read_html('https://developers.google.com/public-data/docs/canonical/countries_csv')\n",
        "loc_df = pd.DataFrame(data = loc[0])\n",
        "loc_df.drop(['country'], axis = 1, inplace = True)\n",
        "loc_df"
      ]
    },
    {
      "cell_type": "code",
      "execution_count": null,
      "metadata": {
        "_kg_hide-input": true,
        "_kg_hide-output": false,
        "execution": {
          "iopub.execute_input": "2021-05-21T20:11:33.013337Z",
          "iopub.status.busy": "2021-05-21T20:11:33.005589Z",
          "iopub.status.idle": "2021-05-21T20:11:33.029346Z",
          "shell.execute_reply": "2021-05-21T20:11:33.028514Z"
        },
        "id": "bfNx_a602h7r",
        "papermill": {
          "duration": 0.082454,
          "end_time": "2021-05-21T20:11:33.029473",
          "exception": false,
          "start_time": "2021-05-21T20:11:32.947019",
          "status": "completed"
        },
        "tags": []
      },
      "outputs": [],
      "source": [
        "## Rename column\n",
        "\n",
        "loc_df.rename(columns = {'name': 'Countries'}, inplace = True)\n",
        "\n",
        "## Merge loc_df and locs_2\n",
        "\n",
        "merged_areas = locs_2.merge(loc_df, how = 'outer', on = ['Countries']).dropna().sort_values(['Name'])\n",
        "merged_areas"
      ]
    },
    {
      "cell_type": "markdown",
      "metadata": {
        "id": "97_9vFJLKgbA",
        "papermill": {
          "duration": 0.074263,
          "end_time": "2021-05-21T20:11:33.164039",
          "exception": false,
          "start_time": "2021-05-21T20:11:33.089776",
          "status": "completed"
        },
        "tags": []
      },
      "source": [
        "Alguns deles só se mudaram dentro das fronteiras de seus países\n"
      ]
    },
    {
      "cell_type": "code",
      "execution_count": null,
      "metadata": {
        "_kg_hide-input": true,
        "execution": {
          "iopub.execute_input": "2021-05-21T20:11:33.349930Z",
          "iopub.status.busy": "2021-05-21T20:11:33.282544Z",
          "iopub.status.idle": "2021-05-21T20:11:33.354550Z",
          "shell.execute_reply": "2021-05-21T20:11:33.355022Z"
        },
        "id": "uEhH4x75EU69",
        "outputId": "c657a734-022e-43a6-b7ed-caee4f27581b",
        "papermill": {
          "duration": 0.1333,
          "end_time": "2021-05-21T20:11:33.355172",
          "exception": false,
          "start_time": "2021-05-21T20:11:33.221872",
          "status": "completed"
        },
        "tags": []
      },
      "outputs": [],
      "source": [
        "## Only keep those offenders that move across country borders as a few of them relocated within their countries\n",
        "\n",
        "new_names = []\n",
        "for i in merged_areas['Name'].unique():\n",
        "    cntries = set(merged_areas[merged_areas['Name'] == i]['Countries'].to_list())\n",
        "    if len(cntries) > 2:\n",
        "        new_names.append(i)\n",
        "\n",
        "new_areas = merged_areas[merged_areas['Name'].isin(new_names)]\n",
        "new_areas"
      ]
    },
    {
      "cell_type": "code",
      "execution_count": null,
      "metadata": {
        "_kg_hide-input": true,
        "execution": {
          "iopub.execute_input": "2021-05-21T20:11:33.474781Z",
          "iopub.status.busy": "2021-05-21T20:11:33.474070Z",
          "iopub.status.idle": "2021-05-21T20:11:33.576966Z",
          "shell.execute_reply": "2021-05-21T20:11:33.576326Z"
        },
        "id": "sSge9j4wNoEa",
        "outputId": "4d26b1af-8741-46bd-866b-b3e5c75294e0",
        "papermill": {
          "duration": 0.169599,
          "end_time": "2021-05-21T20:11:33.577078",
          "exception": false,
          "start_time": "2021-05-21T20:11:33.407479",
          "status": "completed"
        },
        "tags": []
      },
      "outputs": [],
      "source": [
        "## Create an empty map\n",
        "folium_map = folium.Map(location=[37.2972,1.9577],  #  Europe coordinates\n",
        "                       zoom_start = 4,\n",
        "                       tiles = 'stamentoner')\n",
        "\n",
        "## Colors to identify each offender\n",
        "colors = ['red', 'blue', 'green', 'grey', 'purple', 'orange', 'yellow', 'cyan', 'brown']\n",
        "## This is to adjust the size of the circles according to the killers' active years\n",
        "years_active = active_areas_df[active_areas_df['Name'].isin(new_names)].sort_values(['Name'])['Years active'].to_list()\n",
        "\n",
        "\n",
        "for killer in new_areas['Name'].unique().tolist():\n",
        "\n",
        "    color = colors[new_names.index(killer)]\n",
        "    ## Size of the marker is their number of active years\n",
        "    radius = years_active[new_names.index(killer)]\n",
        "\n",
        "    ## This is to add lines connecting the circle at the end of the for loop\n",
        "    coords = []\n",
        "\n",
        "    df1 = new_areas[new_areas['Name'] == killer]\n",
        "\n",
        "    for index, row in df1.iterrows():\n",
        "      ## Add popup text\n",
        "        popup_text = \"\"\"{}, {}, {}\"\"\"\n",
        "        popup_text = popup_text.format('Offender: ' + killer + '\\n',\n",
        "                               'Country: ' + row['Countries'] + '\\n', str(radius) + ' years')\n",
        "        lon = row['longitude']\n",
        "        lat = row['latitude']\n",
        "\n",
        "      ## Polyline requires that locations be put in a list of lists\n",
        "        coords.append([lat, lon])\n",
        "\n",
        "      ## Locate the killer's zones on map\n",
        "        folium.CircleMarker(location = (lat, lon),\n",
        "                       weight = 5, radius = radius, color = color,\n",
        "                       fill = True, fill_color = color,\n",
        "                       popup = popup_text).add_to(folium_map)\n",
        "        \n",
        "    ## Use the locations list to draw connecting lines\n",
        "    my_PolyLine=folium.PolyLine(locations=coords, weight=2, color = color)\n",
        "    folium_map.add_child(my_PolyLine)\n",
        "    \n",
        "folium_map"
      ]
    },
    {
      "cell_type": "markdown",
      "metadata": {
        "papermill": {
          "duration": 0.052693,
          "end_time": "2021-05-21T20:11:33.682912",
          "exception": false,
          "start_time": "2021-05-21T20:11:33.630219",
          "status": "completed"
        },
        "tags": []
      },
      "source": [
        "O mapa acima mostra a rota que cada um dos assassinos em série seguiu. Usando essa representação geográfica, pode -se determinar a zona de conforto do assassino. As rotas representadas neste mapa são registradas pelos locais de dumping, onde as vítimas foram descartadas/mortas.\n"
      ]
    },
    {
      "cell_type": "code",
      "execution_count": null,
      "metadata": {
        "_kg_hide-input": false,
        "_kg_hide-output": false,
        "execution": {
          "iopub.execute_input": "2021-05-21T20:11:33.803764Z",
          "iopub.status.busy": "2021-05-21T20:11:33.802770Z",
          "iopub.status.idle": "2021-05-21T20:11:33.807306Z",
          "shell.execute_reply": "2021-05-21T20:11:33.806804Z"
        },
        "id": "dRVbxMyAqrlz",
        "outputId": "fb62fb1e-b223-4fd4-f930-5f8cf1b2c0e3",
        "papermill": {
          "duration": 0.071069,
          "end_time": "2021-05-21T20:11:33.807428",
          "exception": false,
          "start_time": "2021-05-21T20:11:33.736359",
          "status": "completed"
        },
        "tags": []
      },
      "outputs": [],
      "source": [
        "world_homocides = pd.DataFrame(data = active_countries_count.items(), columns = ['Country', 'Total killers in area'])\n",
        "world_homocides"
      ]
    },
    {
      "cell_type": "code",
      "execution_count": null,
      "metadata": {
        "_kg_hide-input": true,
        "execution": {
          "iopub.execute_input": "2021-05-21T20:11:33.925463Z",
          "iopub.status.busy": "2021-05-21T20:11:33.924705Z",
          "iopub.status.idle": "2021-05-21T20:11:35.171502Z",
          "shell.execute_reply": "2021-05-21T20:11:35.172064Z"
        },
        "id": "SLxXIcBs2u6z",
        "outputId": "cf70d4e0-23c0-42a6-e409-5da4e60ae3db",
        "papermill": {
          "duration": 1.310415,
          "end_time": "2021-05-21T20:11:35.172217",
          "exception": false,
          "start_time": "2021-05-21T20:11:33.861802",
          "status": "completed"
        },
        "tags": []
      },
      "outputs": [],
      "source": [
        "url = 'https://raw.githubusercontent.com/python-visualization/folium/master/examples/data'\n",
        "world_geo = f'{url}/world-countries.json'\n",
        "\n",
        "## Create an empty map\n",
        "m = folium.Map(location=[37.2972,1.9577], zoom_start=3, tiles = 'stamentoner')\n",
        "\n",
        "## add choropleth layer\n",
        "choropleth = folium.Choropleth(\n",
        "    geo_data=world_geo,\n",
        "    name='choropleth',\n",
        "    data=world_homocides,\n",
        "    columns=['Country', 'Total killers in area'],\n",
        "    key_on='feature.properties.name',\n",
        "    fill_color='OrRd',\n",
        "    fill_opacity=1,\n",
        "    line_opacity=1,\n",
        "    legend_name='Total killers in country'\n",
        ").add_to(m)\n",
        "\n",
        "# add labels indicating the name of the country\n",
        "style_function = \"font-size: 15px; font-weight: bold\"\n",
        "choropleth.geojson.add_child(\n",
        "    folium.features.GeoJsonTooltip(['name'], style=style_function, labels=False))\n",
        "\n",
        "## Add layer\n",
        "folium.LayerControl().add_to(m)\n",
        "\n",
        "## Display map\n",
        "m"
      ]
    },
    {
      "cell_type": "markdown",
      "metadata": {
        "id": "8RONzbt6Ehgm",
        "papermill": {
          "duration": 0.064572,
          "end_time": "2021-05-21T20:11:35.307273",
          "exception": false,
          "start_time": "2021-05-21T20:11:35.242701",
          "status": "completed"
        },
        "tags": []
      },
      "source": [
        "## 3. Teste de hipótese\n"
      ]
    },
    {
      "cell_type": "markdown",
      "metadata": {
        "id": "Yt2aV-DFlx2l",
        "papermill": {
          "duration": 0.062092,
          "end_time": "2021-05-21T20:11:35.434574",
          "exception": false,
          "start_time": "2021-05-21T20:11:35.372482",
          "status": "completed"
        },
        "tags": []
      },
      "source": [
        "*Hipótese nula*: Não há variação no número médio de vítimas confirmadas para todos os grupos de número de métodos de morte.\n",
        "\n",
        "*Hipótese alternativa*: Pelo menos o número médio de vítimas confirmadas de um grupo de métodos de matança difere de outros grupos.\n",
        "\n",
        "Referência:\n",
        "https://reneshbedre.github.io/blog/anova.html\n"
      ]
    },
    {
      "cell_type": "code",
      "execution_count": null,
      "metadata": {
        "_kg_hide-input": true,
        "_kg_hide-output": true,
        "execution": {
          "iopub.execute_input": "2021-05-21T20:11:35.566727Z",
          "iopub.status.busy": "2021-05-21T20:11:35.561023Z",
          "iopub.status.idle": "2021-05-21T20:11:35.588506Z",
          "shell.execute_reply": "2021-05-21T20:11:35.589007Z"
        },
        "id": "AAAXmZwEm8Ag",
        "outputId": "6ba81435-93fe-428c-8dc3-9681d4ba8ce3",
        "papermill": {
          "duration": 0.0932,
          "end_time": "2021-05-21T20:11:35.589146",
          "exception": false,
          "start_time": "2021-05-21T20:11:35.495946",
          "status": "completed"
        },
        "tags": []
      },
      "outputs": [],
      "source": [
        "## extract the serial killer group/organization\n",
        "# remove unidentified killers\n",
        "names = df[~(df.Notes.apply(lambda x: ('unidentified serial killer' in x.lower()) | \n",
        "                                         ('theoretical' in x.lower()) |\n",
        "                                        ('unidentified killer' in x.lower())))\n",
        "          ## remove the nicknames which represent unidentified killers\n",
        "          & ~(df.Name.apply(lambda x: ('The' in x) or ('Killer' in x) or ('Maniac' in x) or ('serial' in x)))].Name.to_list() \n",
        "group_names = names[names.index('Murder Incorporated'): names.index('Beasts of Satan')+1]\n",
        "#groups = df1.loc[df1.Name.isin(group_names)]\n",
        "\n",
        "## df2 only contains individual killers\n",
        "df2 = df[df.Name.isin(names) & ~df.Name.isin(group_names)]\n",
        "\n",
        "## convert the methods of killing to a categorical variable\n",
        "df2['Methods of killing'] = df2['Methods of killing'].astype('category')\n",
        "\n",
        "## check the value counts\n",
        "df2['Methods of killing'].value_counts()"
      ]
    },
    {
      "cell_type": "code",
      "execution_count": null,
      "metadata": {
        "_kg_hide-input": true,
        "execution": {
          "iopub.execute_input": "2021-05-21T20:11:35.720042Z",
          "iopub.status.busy": "2021-05-21T20:11:35.719046Z",
          "iopub.status.idle": "2021-05-21T20:11:35.907343Z",
          "shell.execute_reply": "2021-05-21T20:11:35.907846Z"
        },
        "id": "n5_d69hz0yBk",
        "outputId": "2a517813-83ff-46a5-a546-68d13a4f583d",
        "papermill": {
          "duration": 0.256854,
          "end_time": "2021-05-21T20:11:35.907995",
          "exception": false,
          "start_time": "2021-05-21T20:11:35.651141",
          "status": "completed"
        },
        "tags": []
      },
      "outputs": [],
      "source": [
        "# boxplots\n",
        "plt.figure(figsize = (8, 15))\n",
        "sns.boxplot(x = 'Methods of killing', y = 'Proven victims', data = df2)\n",
        "plt.title(\"Boxplot of number of proven victims by number of MO's used\")"
      ]
    },
    {
      "cell_type": "code",
      "execution_count": null,
      "metadata": {
        "_kg_hide-input": true,
        "execution": {
          "iopub.execute_input": "2021-05-21T20:11:36.045853Z",
          "iopub.status.busy": "2021-05-21T20:11:36.044626Z",
          "iopub.status.idle": "2021-05-21T20:11:36.248226Z",
          "shell.execute_reply": "2021-05-21T20:11:36.247578Z"
        },
        "id": "-nzULx86yEc1",
        "outputId": "85145c4d-14d1-4032-d2f9-4139c9a7f26a",
        "papermill": {
          "duration": 0.274483,
          "end_time": "2021-05-21T20:11:36.248336",
          "exception": false,
          "start_time": "2021-05-21T20:11:35.973853",
          "status": "completed"
        },
        "tags": []
      },
      "outputs": [],
      "source": [
        "# Remove extreme outliers\n",
        "plt.figure(figsize = (8, 15))\n",
        "sns.boxplot(x = 'Methods of killing', y = 'Proven victims', data = df2[df2['Proven victims']<200])\n",
        "plt.title(\"Boxplot of number of proven victims by number of MO's used\")"
      ]
    },
    {
      "cell_type": "code",
      "execution_count": null,
      "metadata": {
        "execution": {
          "iopub.execute_input": "2021-05-21T20:11:36.394951Z",
          "iopub.status.busy": "2021-05-21T20:11:36.394118Z",
          "iopub.status.idle": "2021-05-21T20:11:36.398293Z",
          "shell.execute_reply": "2021-05-21T20:11:36.397643Z"
        },
        "id": "cG6a1isU1joi",
        "outputId": "14bbc9c6-30ac-4a45-d05d-9946d0cabd8d",
        "papermill": {
          "duration": 0.083413,
          "end_time": "2021-05-21T20:11:36.398405",
          "exception": false,
          "start_time": "2021-05-21T20:11:36.314992",
          "status": "completed"
        },
        "tags": []
      },
      "outputs": [],
      "source": [
        "# Create a list of lists that contain the Proven victims values by Methods of killing\n",
        "mo_list = []\n",
        "for i in df2['Methods of killing'].unique():\n",
        "    mo_list.append(df2[(df2['Methods of killing'] == i) & (df2['Proven victims']<200)]['Proven victims'].to_list())\n",
        "\n",
        "# perform one-way ANOVA test\n",
        "\n",
        "f_val, p_val = stats.f_oneway(*mo_list)\n",
        "print(f_val, p_val)"
      ]
    },
    {
      "cell_type": "code",
      "execution_count": null,
      "metadata": {
        "execution": {
          "iopub.execute_input": "2021-05-21T20:11:36.548761Z",
          "iopub.status.busy": "2021-05-21T20:11:36.547996Z",
          "iopub.status.idle": "2021-05-21T20:11:36.554004Z",
          "shell.execute_reply": "2021-05-21T20:11:36.553109Z"
        },
        "id": "G6aTMuxL6zFL",
        "outputId": "cef08524-d4ef-44af-e017-4446284d9828",
        "papermill": {
          "duration": 0.08976,
          "end_time": "2021-05-21T20:11:36.554157",
          "exception": false,
          "start_time": "2021-05-21T20:11:36.464397",
          "status": "completed"
        },
        "tags": []
      },
      "outputs": [],
      "source": [
        "# uses panda dataframe for the one-way ANOVA test\n",
        "anova_df = df2[['Methods of killing','Proven victims']][df2['Proven victims']<200].sort_values(by='Methods of killing').reset_index(drop=True)\n",
        "\n",
        "mo1 = anova_df[anova_df['Methods of killing']==1]['Proven victims'].copy()\n",
        "mo2 = anova_df[anova_df['Methods of killing']==2]['Proven victims'].copy()\n",
        "mo3 = anova_df[anova_df['Methods of killing']==3]['Proven victims'].copy()\n",
        "mo4 = anova_df[anova_df['Methods of killing']==4]['Proven victims'].copy()\n",
        "\n",
        "\n",
        "f_val, p_val = stats.f_oneway(mo1, mo2, mo3, mo4)\n",
        "print(f_val,p_val)"
      ]
    },
    {
      "cell_type": "code",
      "execution_count": null,
      "metadata": {
        "execution": {
          "iopub.execute_input": "2021-05-21T20:11:36.699650Z",
          "iopub.status.busy": "2021-05-21T20:11:36.698763Z",
          "iopub.status.idle": "2021-05-21T20:11:36.753346Z",
          "shell.execute_reply": "2021-05-21T20:11:36.751930Z"
        },
        "id": "VX5ptUwSXSz3",
        "papermill": {
          "duration": 0.130813,
          "end_time": "2021-05-21T20:11:36.753503",
          "exception": false,
          "start_time": "2021-05-21T20:11:36.622690",
          "status": "completed"
        },
        "tags": []
      },
      "outputs": [],
      "source": [
        "# Ordinary Least Squares (OLS) model\n",
        "\n",
        "anova_df.columns = ['MOs','Proven_victims']\n",
        "model = ols(\"Proven_victims ~ MOs\", data=anova_df).fit()"
      ]
    },
    {
      "cell_type": "markdown",
      "metadata": {
        "id": "rwwzW41xUaG5",
        "papermill": {
          "duration": 0.068812,
          "end_time": "2021-05-21T20:11:36.896578",
          "exception": false,
          "start_time": "2021-05-21T20:11:36.827766",
          "status": "completed"
        },
        "tags": []
      },
      "source": [
        "O valor p deste teste ANOVA unidirecional é de 0,0007, que é menor que o nível alfa de 0,05. Portanto, a hipótese nula é rejeitada em favor da hipótese alternativa.\n",
        "\n",
        "Em seguida, realizamos um teste post-hoc para determinar quais métodos de morte são significativamente diferentes dos outros.\n"
      ]
    },
    {
      "cell_type": "markdown",
      "metadata": {
        "id": "GaKSJgSMUAwp",
        "papermill": {
          "duration": 0.06915,
          "end_time": "2021-05-21T20:11:37.035052",
          "exception": false,
          "start_time": "2021-05-21T20:11:36.965902",
          "status": "completed"
        },
        "tags": []
      },
      "source": [
        "Teste post-hoc: teste HSD de Tukey\n"
      ]
    },
    {
      "cell_type": "code",
      "execution_count": null,
      "metadata": {
        "execution": {
          "iopub.execute_input": "2021-05-21T20:11:37.181114Z",
          "iopub.status.busy": "2021-05-21T20:11:37.179812Z",
          "iopub.status.idle": "2021-05-21T20:11:37.342143Z",
          "shell.execute_reply": "2021-05-21T20:11:37.341580Z"
        },
        "id": "Vf0NVzzkQFEy",
        "outputId": "91fb2068-352a-421f-ef66-b4642e3c3541",
        "papermill": {
          "duration": 0.236379,
          "end_time": "2021-05-21T20:11:37.342256",
          "exception": false,
          "start_time": "2021-05-21T20:11:37.105877",
          "status": "completed"
        },
        "tags": []
      },
      "outputs": [],
      "source": [
        "## Post-hoc comparison using Tukey HSD test\n",
        "\n",
        "# perform multiple pairwise comparison (Tukey HSD)\n",
        "# for unbalanced data, pairwise_tukey uses Tukey-Kramer test\n",
        "m_comp = pairwise_tukey(data=anova_df, dv='Proven_victims', between='MOs')\n",
        "m_comp"
      ]
    },
    {
      "cell_type": "markdown",
      "metadata": {
        "id": "LbCabiRlVD2r",
        "papermill": {
          "duration": 0.067607,
          "end_time": "2021-05-21T20:11:37.477647",
          "exception": false,
          "start_time": "2021-05-21T20:11:37.410040",
          "status": "completed"
        },
        "tags": []
      },
      "source": [
        "Os resultados do teste de HSD de Tukey sugerem que o grupo com 4 métodos de matança com todos os outros grupos rejeita a hipótese nula (p-tukey <0,05) e indica diferença estatística significativa no número médio de vítimas comprovadas.\n"
      ]
    },
    {
      "cell_type": "markdown",
      "metadata": {
        "id": "dRlHfv3MVqif",
        "papermill": {
          "duration": 0.068054,
          "end_time": "2021-05-21T20:11:37.613625",
          "exception": false,
          "start_time": "2021-05-21T20:11:37.545571",
          "status": "completed"
        },
        "tags": []
      },
      "source": [
        "## Teste as suposições da ANOVA\n",
        "\n",
        "1. Distribuição normal dos resíduos: teste de Shapiro-Wilk.\n",
        "\n",
        "*Hipótese nula*: Os dados são extraídos da distribuição normal.\n",
        "2. Homogeneidade de variações: teste de Bartlett. O teste de Levene pode ser usado quando os dados não são extraídos da distribuição normal.\n",
        "\n",
        "*Hipótese nula*: As amostras de populações têm variações iguais.\n"
      ]
    },
    {
      "cell_type": "code",
      "execution_count": null,
      "metadata": {
        "execution": {
          "iopub.execute_input": "2021-05-21T20:11:37.756579Z",
          "iopub.status.busy": "2021-05-21T20:11:37.755949Z",
          "iopub.status.idle": "2021-05-21T20:11:37.760753Z",
          "shell.execute_reply": "2021-05-21T20:11:37.761554Z"
        },
        "id": "xllGJ3ryVt_x",
        "outputId": "9b65cacb-3b8e-45d9-b7b5-4c3fef2b204e",
        "papermill": {
          "duration": 0.080048,
          "end_time": "2021-05-21T20:11:37.761705",
          "exception": false,
          "start_time": "2021-05-21T20:11:37.681657",
          "status": "completed"
        },
        "tags": []
      },
      "outputs": [],
      "source": [
        "# Normal distribution of residuals\n",
        "# Null hypothesis: data is drawn from normal distribution.\n",
        "# Shapiro test\n",
        "\n",
        "w, p_value = stats.shapiro(model.resid)\n",
        "print(w, p_value)"
      ]
    },
    {
      "cell_type": "markdown",
      "metadata": {
        "id": "gSoRQDXRZSOb",
        "papermill": {
          "duration": 0.069195,
          "end_time": "2021-05-21T20:11:37.901679",
          "exception": false,
          "start_time": "2021-05-21T20:11:37.832484",
          "status": "completed"
        },
        "tags": []
      },
      "source": [
        "Como o valor p (6.32E-31) do teste de Shapiro é menor que o nível alfa de 0,05, rejeitamos a hipótese nula em favor da hipótese alternativa e concluímos que os dados ** não são extraídos da distribuição normal **.\n"
      ]
    },
    {
      "cell_type": "code",
      "execution_count": null,
      "metadata": {
        "execution": {
          "iopub.execute_input": "2021-05-21T20:11:38.046955Z",
          "iopub.status.busy": "2021-05-21T20:11:38.046118Z",
          "iopub.status.idle": "2021-05-21T20:11:38.050100Z",
          "shell.execute_reply": "2021-05-21T20:11:38.049453Z"
        },
        "id": "00RNdpMtZ28z",
        "outputId": "5ad92eee-34f7-4666-cf4d-8812f97985d5",
        "papermill": {
          "duration": 0.079517,
          "end_time": "2021-05-21T20:11:38.050212",
          "exception": false,
          "start_time": "2021-05-21T20:11:37.970695",
          "status": "completed"
        },
        "tags": []
      },
      "outputs": [],
      "source": [
        "# Homogeneity of variances\n",
        "# Null hypothesis: samples from populations have equal variances.\n",
        "# Levene test\n",
        "l, p_value = stats.levene(mo1, mo2, mo3, mo4)\n",
        "print(l, p_value)"
      ]
    },
    {
      "cell_type": "markdown",
      "metadata": {
        "id": "ILUPAKtWaZsp",
        "papermill": {
          "duration": 0.071226,
          "end_time": "2021-05-21T20:11:38.190170",
          "exception": false,
          "start_time": "2021-05-21T20:11:38.118944",
          "status": "completed"
        },
        "tags": []
      },
      "source": [
        "Como o valor p (0,0003) é significativo, rejeitamos a hipótese nula em favor da hipótese alternativa e concluímos que os grupos de métodos de assassinatos ** não têm variações iguais. **\n"
      ]
    },
    {
      "cell_type": "markdown",
      "metadata": {
        "id": "MybSlfjNY_kJ",
        "papermill": {
          "duration": 0.069106,
          "end_time": "2021-05-21T20:11:38.328863",
          "exception": false,
          "start_time": "2021-05-21T20:11:38.259757",
          "status": "completed"
        },
        "tags": []
      },
      "source": [
        "## 4. Banco de dados\n"
      ]
    },
    {
      "cell_type": "code",
      "execution_count": null,
      "metadata": {
        "execution": {
          "iopub.execute_input": "2021-05-21T20:11:38.481515Z",
          "iopub.status.busy": "2021-05-21T20:11:38.480734Z",
          "iopub.status.idle": "2021-05-21T20:11:38.630138Z",
          "shell.execute_reply": "2021-05-21T20:11:38.629420Z"
        },
        "id": "OgFIvyW0ZEmz",
        "papermill": {
          "duration": 0.230115,
          "end_time": "2021-05-21T20:11:38.630269",
          "exception": false,
          "start_time": "2021-05-21T20:11:38.400154",
          "status": "completed"
        },
        "tags": []
      },
      "outputs": [],
      "source": [
        "import sqlite3\n",
        "\n",
        "# Establish connection and cursor\n",
        "conn = sqlite3.connect('SerialKillerData.db')\n",
        "c = conn.cursor()\n",
        "\n",
        "# Country\n",
        "c.execute('DROP TABLE IF EXISTS country;') # remove duplicate table first\n",
        "c.execute('''CREATE TABLE country \n",
        "             (cid INTEGER PRIMARY KEY, Name TEXT);''') # create table\n",
        "for country in active_countries_count.keys():\n",
        "  c.execute(\"INSERT INTO country (Name) VALUES ('%s');\" %country) # insert row into table\n",
        "conn.commit() # Save (commit) the changes\n",
        "\n",
        "# Methods of killing\n",
        "mos = ['children','sexual assault','torture','arson','cannibalism','strangulation','gun','poison']\n",
        "c.execute('DROP TABLE IF EXISTS methods_killing;') # remove duplicate table first\n",
        "c.execute('''CREATE TABLE methods_killing \n",
        "             (moid INTEGER PRIMARY KEY, Method TEXT);''') # create table\n",
        "for m in mos:\n",
        "  c.execute(\"INSERT INTO methods_killing (Method) VALUES ('%s');\" %m) # insert row into table\n",
        "conn.commit() # Save (commit) the changes\n",
        "\n",
        "# Organization\n",
        "organization = ['individual','group']\n",
        "c.execute('DROP TABLE IF EXISTS organization;') # remove duplicate table first\n",
        "c.execute('''CREATE TABLE organization \n",
        "             (oid INTEGER PRIMARY KEY, Form TEXT);''') # create table\n",
        "for o in organization:\n",
        "  c.execute(\"INSERT INTO organization (Form) VALUES ('%s');\" %o) # insert row into table\n",
        "conn.commit() # Save (commit) the changes"
      ]
    },
    {
      "cell_type": "code",
      "execution_count": null,
      "metadata": {
        "execution": {
          "iopub.execute_input": "2021-05-21T20:11:38.774002Z",
          "iopub.status.busy": "2021-05-21T20:11:38.773006Z",
          "iopub.status.idle": "2021-05-21T20:11:38.786802Z",
          "shell.execute_reply": "2021-05-21T20:11:38.786139Z"
        },
        "id": "CT94Cfj8v84T",
        "outputId": "377686eb-5af4-4183-d279-fe6cb67ccb8f",
        "papermill": {
          "duration": 0.086279,
          "end_time": "2021-05-21T20:11:38.786936",
          "exception": false,
          "start_time": "2021-05-21T20:11:38.700657",
          "status": "completed"
        },
        "tags": []
      },
      "outputs": [],
      "source": [
        "# df with only identified killers\n",
        "df_indentified = df1[df1.Name.isin(names)]\n",
        "df_indentified['Organization'] = df_indentified['Name'].apply(lambda x: 2 if x in group_names else 1) # label individual (1), group (2)\n",
        "\n",
        "# serial killers dataset\n",
        "serial_killer = df_indentified.reset_index(drop=True).reset_index().rename(columns={'index':'id'}).copy()\n",
        "serial_killer['id'] = serial_killer['id'].apply(lambda x: x+1) # fix key to start from 1"
      ]
    },
    {
      "cell_type": "code",
      "execution_count": null,
      "metadata": {
        "execution": {
          "iopub.execute_input": "2021-05-21T20:11:38.934810Z",
          "iopub.status.busy": "2021-05-21T20:11:38.934130Z",
          "iopub.status.idle": "2021-05-21T20:11:39.121740Z",
          "shell.execute_reply": "2021-05-21T20:11:39.122382Z"
        },
        "id": "bg3HMXCopn-V",
        "outputId": "f0dea847-4ad4-43d5-e263-dedd7e774013",
        "papermill": {
          "duration": 0.265337,
          "end_time": "2021-05-21T20:11:39.122540",
          "exception": false,
          "start_time": "2021-05-21T20:11:38.857203",
          "status": "completed"
        },
        "tags": []
      },
      "outputs": [],
      "source": [
        "# Serial Killer\n",
        "c.execute('DROP TABLE IF EXISTS serial_killer;') # remove duplicate table first\n",
        "c.execute('''CREATE TABLE serial_killer \n",
        "             (id INTEGER PRIMARY KEY, Name TEXT, Proven_victims INTEGER(0), \n",
        "             Organization INTEGER(0), Start_year INTEGER(0), End_year INTEGER(0),\n",
        "             Active_years INTEGER(0));''') # create table\n",
        "cols = ['id','Name','Proven victims','Organization','Start year','End year','Number of years active']\n",
        "serial_killer[cols].to_sql('serial_killer', conn, if_exists='replace', index = False) # insert row into table\n",
        "conn.commit() # Save (commit) the changes"
      ]
    },
    {
      "cell_type": "code",
      "execution_count": null,
      "metadata": {
        "execution": {
          "iopub.execute_input": "2021-05-21T20:11:39.270083Z",
          "iopub.status.busy": "2021-05-21T20:11:39.269133Z",
          "iopub.status.idle": "2021-05-21T20:11:39.273715Z",
          "shell.execute_reply": "2021-05-21T20:11:39.272981Z"
        },
        "id": "Qdn8w557kGXM",
        "papermill": {
          "duration": 0.077961,
          "end_time": "2021-05-21T20:11:39.273859",
          "exception": false,
          "start_time": "2021-05-21T20:11:39.195898",
          "status": "completed"
        },
        "tags": []
      },
      "outputs": [],
      "source": [
        "#for me in c.execute('SELECT * FROM serial_killer'):\n",
        "#  print(me)"
      ]
    },
    {
      "cell_type": "code",
      "execution_count": null,
      "metadata": {
        "execution": {
          "iopub.execute_input": "2021-05-21T20:11:39.472794Z",
          "iopub.status.busy": "2021-05-21T20:11:39.472147Z",
          "iopub.status.idle": "2021-05-21T20:11:39.475032Z",
          "shell.execute_reply": "2021-05-21T20:11:39.474417Z"
        },
        "id": "cXz8QkZYkQMG",
        "papermill": {
          "duration": 0.127779,
          "end_time": "2021-05-21T20:11:39.475153",
          "exception": false,
          "start_time": "2021-05-21T20:11:39.347374",
          "status": "completed"
        },
        "tags": []
      },
      "outputs": [],
      "source": [
        "# We can also close the connection if we are done with it.\n",
        "# Just be sure any changes have been committed or they will be lost.\n",
        "conn.close()"
      ]
    }
  ],
  "metadata": {
    "kernelspec": {
      "display_name": ".venv (3.13.4)",
      "language": "python",
      "name": "python3"
    },
    "language_info": {
      "codemirror_mode": {
        "name": "ipython",
        "version": 3
      },
      "file_extension": ".py",
      "mimetype": "text/x-python",
      "name": "python",
      "nbconvert_exporter": "python",
      "pygments_lexer": "ipython3",
      "version": "3.13.4"
    },
    "papermill": {
      "duration": 37.843647,
      "end_time": "2021-05-21T20:11:39.654735",
      "environment_variables": {},
      "exception": null,
      "input_path": "__notebook__.ipynb",
      "output_path": "__notebook__.ipynb",
      "parameters": {},
      "start_time": "2021-05-21T20:11:01.811088",
      "version": "2.1.0"
    }
  },
  "nbformat": 4,
  "nbformat_minor": 4
}
