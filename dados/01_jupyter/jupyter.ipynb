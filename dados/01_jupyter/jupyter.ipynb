{
 "cells": [
  {
   "cell_type": "markdown",
   "id": "cfaa71dc",
   "metadata": {},
   "source": [
    "# TESTETITULO\n",
    "---"
   ]
  },
  {
   "cell_type": "markdown",
   "id": "668508ca",
   "metadata": {},
   "source": [
    "## subtitulo"
   ]
  },
  {
   "cell_type": "markdown",
   "id": "280fec45",
   "metadata": {},
   "source": [
    "Campo de texto 2"
   ]
  },
  {
   "cell_type": "markdown",
   "id": "17bb8073",
   "metadata": {},
   "source": [
    "Campo de texto."
   ]
  },
  {
   "cell_type": "markdown",
   "id": "da4abb79",
   "metadata": {},
   "source": [
    "Exemplo código `print(\"Ola, Mundo\")`"
   ]
  },
  {
   "cell_type": "code",
   "execution_count": 2,
   "id": "8f5de124",
   "metadata": {},
   "outputs": [],
   "source": [
    "texto = \"Isso é um texto\"  "
   ]
  },
  {
   "cell_type": "code",
   "execution_count": 3,
   "id": "da7dc6f0",
   "metadata": {},
   "outputs": [
    {
     "name": "stdout",
     "output_type": "stream",
     "text": [
      "Isso é um texto\n"
     ]
    }
   ],
   "source": [
    "print (texto)"
   ]
  }
 ],
 "metadata": {
  "kernelspec": {
   "display_name": ".venv (3.13.4)",
   "language": "python",
   "name": "python3"
  },
  "language_info": {
   "codemirror_mode": {
    "name": "ipython",
    "version": 3
   },
   "file_extension": ".py",
   "mimetype": "text/x-python",
   "name": "python",
   "nbconvert_exporter": "python",
   "pygments_lexer": "ipython3",
   "version": "3.13.4"
  }
 },
 "nbformat": 4,
 "nbformat_minor": 5
}
